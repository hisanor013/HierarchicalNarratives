{
 "cells": [
  {
   "cell_type": "markdown",
   "id": "8272c7bf",
   "metadata": {},
   "source": [
    "# Select model"
   ]
  },
  {
   "cell_type": "code",
   "execution_count": 14,
   "id": "feb11b51",
   "metadata": {},
   "outputs": [],
   "source": [
    "use_model = \"gpt-4-turbo-2024-04-09\""
   ]
  },
  {
   "cell_type": "code",
   "execution_count": 22,
   "id": "09206792",
   "metadata": {},
   "outputs": [],
   "source": [
    "import numpy as np\n",
    "import tqdm\n",
    "import random\n",
    "import pandas as pd\n",
    "import json\n",
    "import glob\n",
    "import matplotlib.pyplot as plt\n",
    "import jaconv\n",
    "from sklearn.cluster import DBSCAN\n",
    "from sklearn.neighbors import NearestNeighbors\n",
    "from sklearn.cluster import KMeans\n",
    "import networkx as nx\n",
    "import unicodedata\n",
    "import tiktoken \n",
    "import openai\n",
    "import datetime\n",
    "import os"
   ]
  },
  {
   "cell_type": "code",
   "execution_count": null,
   "id": "e0b96712",
   "metadata": {},
   "outputs": [],
   "source": []
  },
  {
   "cell_type": "markdown",
   "id": "ae0520cf",
   "metadata": {},
   "source": [
    "# Find files"
   ]
  },
  {
   "cell_type": "code",
   "execution_count": 16,
   "id": "3607bcda",
   "metadata": {},
   "outputs": [
    {
     "name": "stdout",
     "output_type": "stream",
     "text": [
      "['log_public/public_separated_C_api_gpt-4-turbo-2024-04-09_2024-06-17T16_11_06.log']\n"
     ]
    }
   ],
   "source": [
    "log_list = glob.glob(\"log_public/public_separated*\" )\n",
    "print(log_list)\n",
    "path = log_list[0]"
   ]
  },
  {
   "cell_type": "code",
   "execution_count": 17,
   "id": "caaff74e",
   "metadata": {},
   "outputs": [],
   "source": []
  },
  {
   "cell_type": "code",
   "execution_count": null,
   "id": "ab0cb7dc",
   "metadata": {},
   "outputs": [],
   "source": []
  },
  {
   "cell_type": "markdown",
   "id": "9f426dd9",
   "metadata": {},
   "source": [
    "# Read lines"
   ]
  },
  {
   "cell_type": "code",
   "execution_count": 23,
   "id": "00bd6d92",
   "metadata": {},
   "outputs": [
    {
     "name": "stdout",
     "output_type": "stream",
     "text": [
      "Number of error: 0\n"
     ]
    }
   ],
   "source": [
    "index2text = dict()\n",
    "#def read_log(path):\n",
    "with open(path, \"r\") as f:\n",
    "    lines = f.readlines()\n",
    "\n",
    "out_info,out_edges = [],[]\n",
    "num_read = 0\n",
    "index2sentiment = dict()\n",
    "error_cnt = 0\n",
    "for kkk in range(len(lines)):\n",
    "    data = json.loads(lines[kkk])\n",
    "    answer = data[\"answer\"]\n",
    "    answer_type = data[\"type\"]    \n",
    "    if answer_type == \"A\":\n",
    "        subindex = data[\"subindex\"]\n",
    "        answer_type += \"-\" + str(subindex)\n",
    "\n",
    "    input_text = data[\"moto\"]\n",
    "    index = data[\"index\"]    \n",
    "    index2text.update({index:input_text})\n",
    "        \n",
    "            \n",
    "print(\"Number of error: \" + str(error_cnt))\n"
   ]
  },
  {
   "cell_type": "code",
   "execution_count": null,
   "id": "fa052a42",
   "metadata": {},
   "outputs": [],
   "source": []
  },
  {
   "cell_type": "code",
   "execution_count": 26,
   "id": "c87af383",
   "metadata": {},
   "outputs": [
    {
     "name": "stdout",
     "output_type": "stream",
     "text": [
      "AIによる学習精度は日に日に向上しており、全然違う絵柄の物でも1枚他の著作物を学習\n",
      "に加えただけで学習させた著作物に近似した画像や映像を生成出来てしまう程です。\n",
      "私は絵が上手くなく、生成AIによって自分の好みに合わせて手早く画像を作れるのはメ\n",
      "リットに感じる一方で、学習元にされたクリエイターの今までの努力、工夫に対して胡座\n",
      "をかいてタダ乗りしている様な違和感を感じています。\n",
      "SNS等で公開した絵を勝手に学習元に使われ、トラブルとなっている事例も多く見られま\n",
      "す。\n",
      "生成AIに指示を与えたのは自分=著作者と考えている方が多いですが、学習も無しにAI\n",
      "は物を生成出来ません。\n",
      "その学習元にされた絵柄は別の人の著作物を使って作られている事を理解すべきです。\n",
      "インターネット上に公開する以上、悪意ある人物によって無断で学習に使われてしまう可\n",
      "能性は高く、対策をしてもそれを回避する手立てを用意されるイタチごっこになってしま\n",
      "います。\n",
      "クリエイターや著作物を守る為にも、AI学習に使う事の出来る物を制限し、その生成した\n",
      "物を使用する事に関しても規制すべきかと思います。\n",
      "利用を許可してない画像を学習元にする事は著作者の労力や利益を侵害する明確な著作権\n",
      "法違反です。\n",
      "今はまだAIの不自然さが目に見えているので判別ができますが、今後長い期間で見た時\n",
      "に、精度が向上した生成AIによるデマ画像、映像、音声によってより大きな犯罪へ繋が\n",
      "ると感じています。\n"
     ]
    }
   ],
   "source": [
    "df_text = pd.DataFrame(index2text.items())\n",
    "df_text.columns = [\"index\",\"moto\"]\n",
    "print(df_text[\"moto\"].iloc[191])"
   ]
  },
  {
   "cell_type": "code",
   "execution_count": null,
   "id": "570155b4",
   "metadata": {},
   "outputs": [],
   "source": []
  },
  {
   "cell_type": "code",
   "execution_count": null,
   "id": "8ee847ff",
   "metadata": {},
   "outputs": [],
   "source": []
  },
  {
   "cell_type": "markdown",
   "id": "44065b2c",
   "metadata": {},
   "source": [
    "# GPT"
   ]
  },
  {
   "cell_type": "code",
   "execution_count": 27,
   "id": "d2c9ce16",
   "metadata": {},
   "outputs": [],
   "source": [
    "########\n",
    "openai.api_key = \"YOUR-KEY\"\n",
    "#######\n",
    "model = tiktoken.get_encoding(\"cl100k_base\")\n"
   ]
  },
  {
   "cell_type": "code",
   "execution_count": 28,
   "id": "b9e6bf38",
   "metadata": {},
   "outputs": [
    {
     "name": "stdout",
     "output_type": "stream",
     "text": [
      "log_public/public_sentiment_C_api_gpt-4-turbo-2024-04-09_2024-10-24T22_50_22.log\n"
     ]
    }
   ],
   "source": [
    "now = datetime.datetime.now()\n",
    "LOG_FILE = os.path.join(\"log_public\", \"public_sentiment_C_api_\" +  use_model  + \"_\"+ now.strftime('%Y-%m-%dT%H_%M_%S') + \".log\") \n",
    "\n",
    "if os.path.exists(\"log_public\") == False:\n",
    "    os.makedirs(\"log_public\")\n",
    "\n",
    "print(LOG_FILE)\n",
    "\n",
    "def get_completion(messages, model=use_model):\n",
    "    response = openai.ChatCompletion.create(\n",
    "        model=model,\n",
    "        messages=messages,\n",
    "        response_format={\"type\":\"json_object\"},\n",
    "        temperature=0, # this is the degree of randomness of the model's output\n",
    "    )\n",
    "    return response.choices[0].message[\"content\"]\n",
    "\n",
    "DOLLAR_PER_TOKEN = 0.002/1000\n",
    "YEN_PER_DOLLAR= 139.69\n",
    "\n",
    "# トークン数とコストを計算\n",
    "def check_tokens(prompt, model):\n",
    "    tokens = model.encode(prompt)\n",
    "    num_tokens = len(tokens)\n",
    "    cost_dollar = len(tokens)*DOLLAR_PER_TOKEN\n",
    "    cost_yen = len(tokens)*DOLLAR_PER_TOKEN*YEN_PER_DOLLAR\n",
    "#     print(\"num_tokens = {}: cost = ${}, ¥{}\".format(num_tokens, cost_dollar, cost_yen))\n",
    "    return num_tokens, cost_dollar, cost_yen\n",
    "\n",
    "def load_record(path,record2hantei):\n",
    "\n",
    "    with open(path, \"r\") as f:\n",
    "        lines = f.readlines()\n",
    "    out_edges = []\n",
    "    \n",
    "    for kkk in range(len(lines)):\n",
    "        #kkk = 0\n",
    "        data = json.loads(lines[kkk])\n",
    "        answer = data[\"answer\"]\n",
    "        text = data['input']\n",
    "        date = data[\"date\"]\n",
    "        now_future = data[\"type\"]\n",
    "        record = date + \";\" + now_future + \";\" + text\n",
    "        record2hantei.update({record:1})"
   ]
  },
  {
   "cell_type": "code",
   "execution_count": null,
   "id": "1174227f",
   "metadata": {},
   "outputs": [],
   "source": []
  },
  {
   "cell_type": "markdown",
   "id": "d1c12b88",
   "metadata": {},
   "source": [
    "# Prompt"
   ]
  },
  {
   "cell_type": "code",
   "execution_count": 29,
   "id": "7c9ea1a2",
   "metadata": {},
   "outputs": [],
   "source": [
    "prompt_template_1 = \"\"\"\n",
    "次の文章には、生成AIの規制に関する意見が含まれています。この文章の筆者の意見が生成AIに対して肯定的、中立的、または否定的であるかを数値で評価してください。肯定的であれば1、否定的であれば0に近づくように数値を設定してください。\n",
    "\n",
    "以下のJSON形式で回答してください。説明は入れずに、このフォーマットのみで回答してください。\n",
    "{\"極性\"：\"0.2\"}\n",
    "\n",
    "=====\n",
    "%s\"\"\"\n"
   ]
  },
  {
   "cell_type": "code",
   "execution_count": 30,
   "id": "b5c73ff5",
   "metadata": {},
   "outputs": [
    {
     "name": "stdout",
     "output_type": "stream",
     "text": [
      "0\n",
      "log_public/public_sentiment_C_api_gpt-4-turbo-2024-04-09_2024-10-24T22_50_22.log\n"
     ]
    }
   ],
   "source": [
    "################################################\n",
    "START_FROM_SCRATCH = 1\n",
    "START_INDEX = 0\n",
    "#START_INDEX = MID_INDEX\n",
    "print(START_INDEX)\n",
    "################################################\n",
    "\n",
    "record2hantei = dict()\n",
    "file_list = []\n",
    "\n",
    "if START_FROM_SCRATCH != 1:\n",
    "    for file in file_list:\n",
    "        load_record(file,record2hantei)\n",
    "        \n",
    "print(LOG_FILE)"
   ]
  },
  {
   "cell_type": "code",
   "execution_count": null,
   "id": "532660df",
   "metadata": {},
   "outputs": [],
   "source": []
  },
  {
   "cell_type": "markdown",
   "id": "3468676c",
   "metadata": {},
   "source": [
    "# Main"
   ]
  },
  {
   "cell_type": "code",
   "execution_count": null,
   "id": "9e5c01f0",
   "metadata": {},
   "outputs": [],
   "source": [
    "%%time\n",
    "import time\n",
    "for kkk in range(3):\n",
    "    print(\"TRY: \" + str(kkk) + \", Start \" + str(START_INDEX))\n",
    "    try:\n",
    "        #### FIRST HALF ####\n",
    "        #for i in tqdm.tqdm(range(START_INDEX,MID_INDEX)):\n",
    "        #### SECOND HALF OR ALL ####\n",
    "        for i in tqdm.tqdm(range(START_INDEX,len(df_text))):\n",
    "        #### DEBUG #####\n",
    "        #for i in tqdm.tqdm(range(START_INDEX,START_INDEX+3)):\n",
    "\n",
    "            t =  df_text[\"moto\"].iloc[i]\n",
    "            prompt = prompt_template_1 % t\n",
    "            messages = [\n",
    "                    {\n",
    "                        \"role\" : \"user\",\n",
    "                        \"content\" : prompt\n",
    "                    }\n",
    "            ]\n",
    "            tmp_response_1 = get_completion(messages)\n",
    "            num_tokens1, cost_dollar1, cost_yen1 = check_tokens(tmp_response_1, model)\n",
    "            result = {\n",
    "                    \"index\": str(df_text[\"index\"].iloc[i]),\n",
    "                    \"input\": t,\n",
    "                    \"cost\":{\n",
    "                            1:{\n",
    "                            \"num_tokens1\":num_tokens1,\n",
    "                            \"cost_dollar1\":cost_dollar1,\n",
    "                            \"cost_yen1\":cost_yen1\n",
    "                        }\n",
    "                    },\n",
    "                    \"answer\":tmp_response_1\n",
    "                }\n",
    "\n",
    "            #### KOKODE HAKIDASU \n",
    "            with open(LOG_FILE, \"a\") as f:\n",
    "                print(json.dumps(result), file=f)\n",
    "            \n",
    "   \n",
    "            START_INDEX = i\n",
    "                \n",
    "    except:\n",
    "        START_INDEX = i\n",
    "        time.sleep(5.4)\n",
    "        "
   ]
  },
  {
   "cell_type": "code",
   "execution_count": null,
   "id": "acc17975",
   "metadata": {},
   "outputs": [],
   "source": []
  },
  {
   "cell_type": "code",
   "execution_count": null,
   "id": "393a7505",
   "metadata": {},
   "outputs": [],
   "source": []
  },
  {
   "cell_type": "code",
   "execution_count": null,
   "id": "56bb22a4",
   "metadata": {},
   "outputs": [],
   "source": []
  },
  {
   "cell_type": "code",
   "execution_count": null,
   "id": "0e1c2770",
   "metadata": {},
   "outputs": [],
   "source": []
  },
  {
   "cell_type": "code",
   "execution_count": null,
   "id": "9f4d396b",
   "metadata": {},
   "outputs": [],
   "source": []
  },
  {
   "cell_type": "code",
   "execution_count": null,
   "id": "ad8bdad5",
   "metadata": {},
   "outputs": [],
   "source": []
  },
  {
   "cell_type": "code",
   "execution_count": null,
   "id": "506727dc",
   "metadata": {},
   "outputs": [],
   "source": []
  }
 ],
 "metadata": {
  "kernelspec": {
   "display_name": "Python 3 (ipykernel)",
   "language": "python",
   "name": "python3"
  },
  "language_info": {
   "codemirror_mode": {
    "name": "ipython",
    "version": 3
   },
   "file_extension": ".py",
   "mimetype": "text/x-python",
   "name": "python",
   "nbconvert_exporter": "python",
   "pygments_lexer": "ipython3",
   "version": "3.8.0"
  }
 },
 "nbformat": 4,
 "nbformat_minor": 5
}
